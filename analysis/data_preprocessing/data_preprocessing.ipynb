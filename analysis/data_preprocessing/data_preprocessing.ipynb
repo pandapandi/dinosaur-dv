{
 "cells": [
  {
   "cell_type": "markdown",
   "id": "d748c9fb-f4a0-4386-97ed-c40947007593",
   "metadata": {},
   "source": [
    "### Importing libraries"
   ]
  },
  {
   "cell_type": "code",
   "execution_count": 1,
   "id": "4c2e9b31-1d6c-437c-8348-a9008d4aed14",
   "metadata": {
    "tags": []
   },
   "outputs": [],
   "source": [
    "import numpy as np\n",
    "import pandas as pd\n",
    "import country_converter as coco"
   ]
  },
  {
   "cell_type": "markdown",
   "id": "c0fb5a47-7233-459d-a6f8-57653045e119",
   "metadata": {},
   "source": [
    "### Loading data"
   ]
  },
  {
   "cell_type": "code",
   "execution_count": 2,
   "id": "a4bd333b-f62f-4450-876e-de21cc968a37",
   "metadata": {
    "tags": []
   },
   "outputs": [],
   "source": [
    "df = pd.read_csv('data.csv')"
   ]
  },
  {
   "cell_type": "code",
   "execution_count": 3,
   "id": "e0670ecc-ece4-4672-9c90-ae72e5aa6f58",
   "metadata": {
    "tags": []
   },
   "outputs": [
    {
     "data": {
      "text/html": [
       "<div>\n",
       "<style scoped>\n",
       "    .dataframe tbody tr th:only-of-type {\n",
       "        vertical-align: middle;\n",
       "    }\n",
       "\n",
       "    .dataframe tbody tr th {\n",
       "        vertical-align: top;\n",
       "    }\n",
       "\n",
       "    .dataframe thead th {\n",
       "        text-align: right;\n",
       "    }\n",
       "</style>\n",
       "<table border=\"1\" class=\"dataframe\">\n",
       "  <thead>\n",
       "    <tr style=\"text-align: right;\">\n",
       "      <th></th>\n",
       "      <th>name</th>\n",
       "      <th>diet</th>\n",
       "      <th>period</th>\n",
       "      <th>lived_in</th>\n",
       "      <th>type</th>\n",
       "      <th>length</th>\n",
       "      <th>taxonomy</th>\n",
       "      <th>named_by</th>\n",
       "      <th>species</th>\n",
       "      <th>link</th>\n",
       "    </tr>\n",
       "  </thead>\n",
       "  <tbody>\n",
       "    <tr>\n",
       "      <th>0</th>\n",
       "      <td>aardonyx</td>\n",
       "      <td>herbivorous</td>\n",
       "      <td>Early Jurassic 199-189 million years ago</td>\n",
       "      <td>South Africa</td>\n",
       "      <td>sauropod</td>\n",
       "      <td>8.0m</td>\n",
       "      <td>Dinosauria Saurischia Sauropodomorpha Prosauro...</td>\n",
       "      <td>Yates Bonnan Neveling Chinsamy and Blackbeard ...</td>\n",
       "      <td>celestae</td>\n",
       "      <td>https://www.nhm.ac.uk/discover/dino-directory/...</td>\n",
       "    </tr>\n",
       "    <tr>\n",
       "      <th>1</th>\n",
       "      <td>abelisaurus</td>\n",
       "      <td>carnivorous</td>\n",
       "      <td>Late Cretaceous 74-70 million years ago</td>\n",
       "      <td>Argentina</td>\n",
       "      <td>large theropod</td>\n",
       "      <td>9.0m</td>\n",
       "      <td>Dinosauria Saurischia Theropoda Neotheropoda C...</td>\n",
       "      <td>Bonaparte and Novas (1985)</td>\n",
       "      <td>comahuensis</td>\n",
       "      <td>https://www.nhm.ac.uk/discover/dino-directory/...</td>\n",
       "    </tr>\n",
       "    <tr>\n",
       "      <th>2</th>\n",
       "      <td>achelousaurus</td>\n",
       "      <td>herbivorous</td>\n",
       "      <td>Late Cretaceous 83-70 million years ago</td>\n",
       "      <td>USA</td>\n",
       "      <td>ceratopsian</td>\n",
       "      <td>6.0m</td>\n",
       "      <td>Dinosauria Ornithischia Genasauria Cerapoda Ma...</td>\n",
       "      <td>Sampson  (1995)</td>\n",
       "      <td>horneri</td>\n",
       "      <td>https://www.nhm.ac.uk/discover/dino-directory/...</td>\n",
       "    </tr>\n",
       "    <tr>\n",
       "      <th>3</th>\n",
       "      <td>achillobator</td>\n",
       "      <td>carnivorous</td>\n",
       "      <td>Late Cretaceous 99-84 million years ago</td>\n",
       "      <td>Mongolia</td>\n",
       "      <td>large theropod</td>\n",
       "      <td>5.0m</td>\n",
       "      <td>Dinosauria Saurischia Theropoda Neotheropoda T...</td>\n",
       "      <td>Perle Norell and Clark (1999)</td>\n",
       "      <td>giganteus</td>\n",
       "      <td>https://www.nhm.ac.uk/discover/dino-directory/...</td>\n",
       "    </tr>\n",
       "    <tr>\n",
       "      <th>4</th>\n",
       "      <td>acrocanthosaurus</td>\n",
       "      <td>carnivorous</td>\n",
       "      <td>Early Cretaceous 115-105 million years ago</td>\n",
       "      <td>USA</td>\n",
       "      <td>large theropod</td>\n",
       "      <td>12.0m</td>\n",
       "      <td>Dinosauria Saurischia Theropoda Neotheropoda T...</td>\n",
       "      <td>Stovall and Langston (1950)</td>\n",
       "      <td>atokensis</td>\n",
       "      <td>https://www.nhm.ac.uk/discover/dino-directory/...</td>\n",
       "    </tr>\n",
       "  </tbody>\n",
       "</table>\n",
       "</div>"
      ],
      "text/plain": [
       "               name         diet                                      period   \n",
       "0          aardonyx  herbivorous    Early Jurassic 199-189 million years ago  \\\n",
       "1       abelisaurus  carnivorous     Late Cretaceous 74-70 million years ago   \n",
       "2     achelousaurus  herbivorous     Late Cretaceous 83-70 million years ago   \n",
       "3      achillobator  carnivorous     Late Cretaceous 99-84 million years ago   \n",
       "4  acrocanthosaurus  carnivorous  Early Cretaceous 115-105 million years ago   \n",
       "\n",
       "       lived_in            type length   \n",
       "0  South Africa        sauropod   8.0m  \\\n",
       "1     Argentina  large theropod   9.0m   \n",
       "2           USA     ceratopsian   6.0m   \n",
       "3      Mongolia  large theropod   5.0m   \n",
       "4           USA  large theropod  12.0m   \n",
       "\n",
       "                                            taxonomy   \n",
       "0  Dinosauria Saurischia Sauropodomorpha Prosauro...  \\\n",
       "1  Dinosauria Saurischia Theropoda Neotheropoda C...   \n",
       "2  Dinosauria Ornithischia Genasauria Cerapoda Ma...   \n",
       "3  Dinosauria Saurischia Theropoda Neotheropoda T...   \n",
       "4  Dinosauria Saurischia Theropoda Neotheropoda T...   \n",
       "\n",
       "                                            named_by      species   \n",
       "0  Yates Bonnan Neveling Chinsamy and Blackbeard ...     celestae  \\\n",
       "1                         Bonaparte and Novas (1985)  comahuensis   \n",
       "2                                    Sampson  (1995)      horneri   \n",
       "3                      Perle Norell and Clark (1999)    giganteus   \n",
       "4                        Stovall and Langston (1950)    atokensis   \n",
       "\n",
       "                                                link  \n",
       "0  https://www.nhm.ac.uk/discover/dino-directory/...  \n",
       "1  https://www.nhm.ac.uk/discover/dino-directory/...  \n",
       "2  https://www.nhm.ac.uk/discover/dino-directory/...  \n",
       "3  https://www.nhm.ac.uk/discover/dino-directory/...  \n",
       "4  https://www.nhm.ac.uk/discover/dino-directory/...  "
      ]
     },
     "execution_count": 3,
     "metadata": {},
     "output_type": "execute_result"
    }
   ],
   "source": [
    "df.head()"
   ]
  },
  {
   "cell_type": "code",
   "execution_count": 4,
   "id": "ffa520d7-ec13-4407-9e33-4fced646eb7f",
   "metadata": {
    "tags": []
   },
   "outputs": [
    {
     "data": {
      "text/plain": [
       "309"
      ]
     },
     "execution_count": 4,
     "metadata": {},
     "output_type": "execute_result"
    }
   ],
   "source": [
    "len(df)"
   ]
  },
  {
   "cell_type": "code",
   "execution_count": 5,
   "id": "eab27b7e-0bee-4c89-b3d5-3f4241a76a44",
   "metadata": {
    "tags": []
   },
   "outputs": [
    {
     "name": "stdout",
     "output_type": "stream",
     "text": [
      "<class 'pandas.core.frame.DataFrame'>\n",
      "RangeIndex: 309 entries, 0 to 308\n",
      "Data columns (total 10 columns):\n",
      " #   Column    Non-Null Count  Dtype \n",
      "---  ------    --------------  ----- \n",
      " 0   name      309 non-null    object\n",
      " 1   diet      309 non-null    object\n",
      " 2   period    309 non-null    object\n",
      " 3   lived_in  308 non-null    object\n",
      " 4   type      309 non-null    object\n",
      " 5   length    291 non-null    object\n",
      " 6   taxonomy  309 non-null    object\n",
      " 7   named_by  309 non-null    object\n",
      " 8   species   304 non-null    object\n",
      " 9   link      309 non-null    object\n",
      "dtypes: object(10)\n",
      "memory usage: 24.3+ KB\n"
     ]
    }
   ],
   "source": [
    "df.info()"
   ]
  },
  {
   "cell_type": "markdown",
   "id": "7a30451c-2e4a-4617-af38-230269125413",
   "metadata": {},
   "source": [
    "### Cleaning null values"
   ]
  },
  {
   "cell_type": "code",
   "execution_count": 6,
   "id": "80a38c6e-9cff-4dc9-a0d1-4507761d4562",
   "metadata": {
    "tags": []
   },
   "outputs": [
    {
     "data": {
      "text/plain": [
       "name         0\n",
       "diet         0\n",
       "period       0\n",
       "lived_in     1\n",
       "type         0\n",
       "length      18\n",
       "taxonomy     0\n",
       "named_by     0\n",
       "species      5\n",
       "link         0\n",
       "dtype: int64"
      ]
     },
     "execution_count": 6,
     "metadata": {},
     "output_type": "execute_result"
    }
   ],
   "source": [
    "df.isnull().sum()"
   ]
  },
  {
   "cell_type": "code",
   "execution_count": 7,
   "id": "a373d018-c837-40a0-8390-1f7ed169b1d8",
   "metadata": {
    "tags": []
   },
   "outputs": [
    {
     "data": {
      "text/plain": [
       "285"
      ]
     },
     "execution_count": 7,
     "metadata": {},
     "output_type": "execute_result"
    }
   ],
   "source": [
    "len(df.dropna(axis=0))"
   ]
  },
  {
   "cell_type": "code",
   "execution_count": 8,
   "id": "29806398-36f4-472f-ac1d-9ccf68b54eeb",
   "metadata": {
    "tags": []
   },
   "outputs": [],
   "source": [
    "df.dropna(axis=0, inplace=True)\n",
    "df.reset_index(drop=True, inplace=True)"
   ]
  },
  {
   "cell_type": "code",
   "execution_count": 9,
   "id": "77dbb2e8-c563-4350-8c0e-1a0c438ca873",
   "metadata": {
    "tags": []
   },
   "outputs": [
    {
     "data": {
      "text/html": [
       "<div>\n",
       "<style scoped>\n",
       "    .dataframe tbody tr th:only-of-type {\n",
       "        vertical-align: middle;\n",
       "    }\n",
       "\n",
       "    .dataframe tbody tr th {\n",
       "        vertical-align: top;\n",
       "    }\n",
       "\n",
       "    .dataframe thead th {\n",
       "        text-align: right;\n",
       "    }\n",
       "</style>\n",
       "<table border=\"1\" class=\"dataframe\">\n",
       "  <thead>\n",
       "    <tr style=\"text-align: right;\">\n",
       "      <th></th>\n",
       "      <th>name</th>\n",
       "      <th>diet</th>\n",
       "      <th>period</th>\n",
       "      <th>lived_in</th>\n",
       "      <th>type</th>\n",
       "      <th>length</th>\n",
       "      <th>taxonomy</th>\n",
       "      <th>named_by</th>\n",
       "      <th>species</th>\n",
       "      <th>link</th>\n",
       "    </tr>\n",
       "  </thead>\n",
       "  <tbody>\n",
       "    <tr>\n",
       "      <th>0</th>\n",
       "      <td>aardonyx</td>\n",
       "      <td>herbivorous</td>\n",
       "      <td>Early Jurassic 199-189 million years ago</td>\n",
       "      <td>South Africa</td>\n",
       "      <td>sauropod</td>\n",
       "      <td>8.0m</td>\n",
       "      <td>Dinosauria Saurischia Sauropodomorpha Prosauro...</td>\n",
       "      <td>Yates Bonnan Neveling Chinsamy and Blackbeard ...</td>\n",
       "      <td>celestae</td>\n",
       "      <td>https://www.nhm.ac.uk/discover/dino-directory/...</td>\n",
       "    </tr>\n",
       "    <tr>\n",
       "      <th>1</th>\n",
       "      <td>abelisaurus</td>\n",
       "      <td>carnivorous</td>\n",
       "      <td>Late Cretaceous 74-70 million years ago</td>\n",
       "      <td>Argentina</td>\n",
       "      <td>large theropod</td>\n",
       "      <td>9.0m</td>\n",
       "      <td>Dinosauria Saurischia Theropoda Neotheropoda C...</td>\n",
       "      <td>Bonaparte and Novas (1985)</td>\n",
       "      <td>comahuensis</td>\n",
       "      <td>https://www.nhm.ac.uk/discover/dino-directory/...</td>\n",
       "    </tr>\n",
       "    <tr>\n",
       "      <th>2</th>\n",
       "      <td>achelousaurus</td>\n",
       "      <td>herbivorous</td>\n",
       "      <td>Late Cretaceous 83-70 million years ago</td>\n",
       "      <td>USA</td>\n",
       "      <td>ceratopsian</td>\n",
       "      <td>6.0m</td>\n",
       "      <td>Dinosauria Ornithischia Genasauria Cerapoda Ma...</td>\n",
       "      <td>Sampson  (1995)</td>\n",
       "      <td>horneri</td>\n",
       "      <td>https://www.nhm.ac.uk/discover/dino-directory/...</td>\n",
       "    </tr>\n",
       "    <tr>\n",
       "      <th>3</th>\n",
       "      <td>achillobator</td>\n",
       "      <td>carnivorous</td>\n",
       "      <td>Late Cretaceous 99-84 million years ago</td>\n",
       "      <td>Mongolia</td>\n",
       "      <td>large theropod</td>\n",
       "      <td>5.0m</td>\n",
       "      <td>Dinosauria Saurischia Theropoda Neotheropoda T...</td>\n",
       "      <td>Perle Norell and Clark (1999)</td>\n",
       "      <td>giganteus</td>\n",
       "      <td>https://www.nhm.ac.uk/discover/dino-directory/...</td>\n",
       "    </tr>\n",
       "    <tr>\n",
       "      <th>4</th>\n",
       "      <td>acrocanthosaurus</td>\n",
       "      <td>carnivorous</td>\n",
       "      <td>Early Cretaceous 115-105 million years ago</td>\n",
       "      <td>USA</td>\n",
       "      <td>large theropod</td>\n",
       "      <td>12.0m</td>\n",
       "      <td>Dinosauria Saurischia Theropoda Neotheropoda T...</td>\n",
       "      <td>Stovall and Langston (1950)</td>\n",
       "      <td>atokensis</td>\n",
       "      <td>https://www.nhm.ac.uk/discover/dino-directory/...</td>\n",
       "    </tr>\n",
       "  </tbody>\n",
       "</table>\n",
       "</div>"
      ],
      "text/plain": [
       "               name         diet                                      period   \n",
       "0          aardonyx  herbivorous    Early Jurassic 199-189 million years ago  \\\n",
       "1       abelisaurus  carnivorous     Late Cretaceous 74-70 million years ago   \n",
       "2     achelousaurus  herbivorous     Late Cretaceous 83-70 million years ago   \n",
       "3      achillobator  carnivorous     Late Cretaceous 99-84 million years ago   \n",
       "4  acrocanthosaurus  carnivorous  Early Cretaceous 115-105 million years ago   \n",
       "\n",
       "       lived_in            type length   \n",
       "0  South Africa        sauropod   8.0m  \\\n",
       "1     Argentina  large theropod   9.0m   \n",
       "2           USA     ceratopsian   6.0m   \n",
       "3      Mongolia  large theropod   5.0m   \n",
       "4           USA  large theropod  12.0m   \n",
       "\n",
       "                                            taxonomy   \n",
       "0  Dinosauria Saurischia Sauropodomorpha Prosauro...  \\\n",
       "1  Dinosauria Saurischia Theropoda Neotheropoda C...   \n",
       "2  Dinosauria Ornithischia Genasauria Cerapoda Ma...   \n",
       "3  Dinosauria Saurischia Theropoda Neotheropoda T...   \n",
       "4  Dinosauria Saurischia Theropoda Neotheropoda T...   \n",
       "\n",
       "                                            named_by      species   \n",
       "0  Yates Bonnan Neveling Chinsamy and Blackbeard ...     celestae  \\\n",
       "1                         Bonaparte and Novas (1985)  comahuensis   \n",
       "2                                    Sampson  (1995)      horneri   \n",
       "3                      Perle Norell and Clark (1999)    giganteus   \n",
       "4                        Stovall and Langston (1950)    atokensis   \n",
       "\n",
       "                                                link  \n",
       "0  https://www.nhm.ac.uk/discover/dino-directory/...  \n",
       "1  https://www.nhm.ac.uk/discover/dino-directory/...  \n",
       "2  https://www.nhm.ac.uk/discover/dino-directory/...  \n",
       "3  https://www.nhm.ac.uk/discover/dino-directory/...  \n",
       "4  https://www.nhm.ac.uk/discover/dino-directory/...  "
      ]
     },
     "execution_count": 9,
     "metadata": {},
     "output_type": "execute_result"
    }
   ],
   "source": [
    "df.head()"
   ]
  },
  {
   "cell_type": "markdown",
   "id": "39cfad28-ccff-464d-a065-19e224d2d0bc",
   "metadata": {},
   "source": [
    "### Preprocessing"
   ]
  },
  {
   "cell_type": "code",
   "execution_count": 10,
   "id": "db22f3be-39ec-4621-bbfd-a4a9c4f2cd17",
   "metadata": {
    "tags": []
   },
   "outputs": [
    {
     "data": {
      "text/plain": [
       "Index(['name', 'diet', 'period', 'lived_in', 'type', 'length', 'taxonomy',\n",
       "       'named_by', 'species', 'link'],\n",
       "      dtype='object')"
      ]
     },
     "execution_count": 10,
     "metadata": {},
     "output_type": "execute_result"
    }
   ],
   "source": [
    "df.columns"
   ]
  },
  {
   "cell_type": "code",
   "execution_count": 11,
   "id": "c3cc04ff-b06b-4014-bb9b-af4cff03d060",
   "metadata": {
    "tags": []
   },
   "outputs": [
    {
     "data": {
      "text/plain": [
       "name        285\n",
       "diet          5\n",
       "period      147\n",
       "lived_in     31\n",
       "type          6\n",
       "length       73\n",
       "taxonomy     98\n",
       "named_by    255\n",
       "species     255\n",
       "link        285\n",
       "dtype: int64"
      ]
     },
     "execution_count": 11,
     "metadata": {},
     "output_type": "execute_result"
    }
   ],
   "source": [
    "df.nunique()"
   ]
  },
  {
   "cell_type": "markdown",
   "id": "6072a669-2a19-4c20-832d-345c55f69d04",
   "metadata": {},
   "source": [
    "---"
   ]
  },
  {
   "cell_type": "code",
   "execution_count": 12,
   "id": "12262a00-af15-4e72-ad41-d6d53057536b",
   "metadata": {
    "tags": []
   },
   "outputs": [
    {
     "data": {
      "text/plain": [
       "['herbivorous',\n",
       " 'carnivorous',\n",
       " 'omnivorous',\n",
       " 'unknown',\n",
       " 'herbivorous/omnivorous']"
      ]
     },
     "execution_count": 12,
     "metadata": {},
     "output_type": "execute_result"
    }
   ],
   "source": [
    "df.diet.unique().tolist()"
   ]
  },
  {
   "cell_type": "code",
   "execution_count": 13,
   "id": "7ac50e73-4258-4414-8363-6245e6425725",
   "metadata": {
    "tags": []
   },
   "outputs": [
    {
     "data": {
      "text/html": [
       "<div>\n",
       "<style scoped>\n",
       "    .dataframe tbody tr th:only-of-type {\n",
       "        vertical-align: middle;\n",
       "    }\n",
       "\n",
       "    .dataframe tbody tr th {\n",
       "        vertical-align: top;\n",
       "    }\n",
       "\n",
       "    .dataframe thead th {\n",
       "        text-align: right;\n",
       "    }\n",
       "</style>\n",
       "<table border=\"1\" class=\"dataframe\">\n",
       "  <thead>\n",
       "    <tr style=\"text-align: right;\">\n",
       "      <th></th>\n",
       "      <th>name</th>\n",
       "      <th>diet</th>\n",
       "      <th>period</th>\n",
       "      <th>lived_in</th>\n",
       "      <th>type</th>\n",
       "      <th>length</th>\n",
       "      <th>taxonomy</th>\n",
       "      <th>named_by</th>\n",
       "      <th>species</th>\n",
       "      <th>link</th>\n",
       "    </tr>\n",
       "  </thead>\n",
       "  <tbody>\n",
       "    <tr>\n",
       "      <th>221</th>\n",
       "      <td>riojasaurus</td>\n",
       "      <td>herbivorous/omnivorous</td>\n",
       "      <td>Late Triassic 221-210 million years ago</td>\n",
       "      <td>Argentina</td>\n",
       "      <td>sauropod</td>\n",
       "      <td>5.15m</td>\n",
       "      <td>Dinosauria Saurischia Sauropodomorpha Prosauro...</td>\n",
       "      <td>Bonaparte (1969)</td>\n",
       "      <td>incertus</td>\n",
       "      <td>https://www.nhm.ac.uk/discover/dino-directory/...</td>\n",
       "    </tr>\n",
       "  </tbody>\n",
       "</table>\n",
       "</div>"
      ],
      "text/plain": [
       "            name                    diet   \n",
       "221  riojasaurus  herbivorous/omnivorous  \\\n",
       "\n",
       "                                      period   lived_in      type length   \n",
       "221  Late Triassic 221-210 million years ago  Argentina  sauropod  5.15m  \\\n",
       "\n",
       "                                              taxonomy          named_by   \n",
       "221  Dinosauria Saurischia Sauropodomorpha Prosauro...  Bonaparte (1969)  \\\n",
       "\n",
       "      species                                               link  \n",
       "221  incertus  https://www.nhm.ac.uk/discover/dino-directory/...  "
      ]
     },
     "execution_count": 13,
     "metadata": {},
     "output_type": "execute_result"
    }
   ],
   "source": [
    "df[df.diet=='herbivorous/omnivorous']"
   ]
  },
  {
   "cell_type": "code",
   "execution_count": 14,
   "id": "5f71c660-dc63-43f0-8261-298dc5de5a38",
   "metadata": {
    "tags": []
   },
   "outputs": [],
   "source": [
    "df.iloc[221].diet = 'herbivorous'"
   ]
  },
  {
   "cell_type": "code",
   "execution_count": 15,
   "id": "2bfe1760-8913-4ff6-8d13-a97b1ce7943e",
   "metadata": {
    "tags": []
   },
   "outputs": [
    {
     "data": {
      "text/plain": [
       "['herbivorous', 'carnivorous', 'omnivorous', 'unknown']"
      ]
     },
     "execution_count": 15,
     "metadata": {},
     "output_type": "execute_result"
    }
   ],
   "source": [
    "df.diet.unique().tolist()"
   ]
  },
  {
   "cell_type": "markdown",
   "id": "27b56dfc-3519-4986-8108-ecf007285ffa",
   "metadata": {},
   "source": [
    "---"
   ]
  },
  {
   "cell_type": "code",
   "execution_count": 16,
   "id": "ab9f103d-fea3-4c9f-afc1-ec056684db18",
   "metadata": {
    "tags": []
   },
   "outputs": [
    {
     "data": {
      "text/plain": [
       "array(['8.0m', '9.0m', '6.0m', '5.0m', '12.0m', '15.0m', '1.5m', '21.0m',\n",
       "       '7.0m', '2.0m', '3.5m', '18.0m', '1.3m', '0.5m', '35.0m', '3.0m',\n",
       "       '2.3m', '1.0m', '14.0m', '24.0m', '10.0m', '30.0m', '23.0m',\n",
       "       '7.6m', '1.1m', '4.0m', '11.0m', '1.7m', '2.1m', '1.8m', '0.65m',\n",
       "       '0.25m', '8.1m', '20.0m', '26.0m', '6.4m', '13.0m', '6.2m', '3.4m',\n",
       "       '4.2m', '4.7m', '0.8m', '4.6m', '12.5m', '8.6m', '21.5m', '1.2m',\n",
       "       '4.5m', '6.5m', '22.0m', '8.2m', '0.6m', '5.7m', '4.4m', '7.4m',\n",
       "       '1.6m', '5.3m', '1.4m', '28.0m', '25.0m', '6.8m', '0.9m', '2.4m',\n",
       "       '4.1m', '2.5m', '5.15m', '6.6m', '0.45m', '2.37m', '5.5m', '8.5m',\n",
       "       '7.5m', '17.0m'], dtype=object)"
      ]
     },
     "execution_count": 16,
     "metadata": {},
     "output_type": "execute_result"
    }
   ],
   "source": [
    "df.length.unique()"
   ]
  },
  {
   "cell_type": "code",
   "execution_count": 17,
   "id": "609b7fbe-7dcc-4654-8210-e3fabda12e82",
   "metadata": {
    "tags": []
   },
   "outputs": [],
   "source": [
    "df.length = list(map(lambda x: float(x[:-1]), df.length))"
   ]
  },
  {
   "cell_type": "markdown",
   "id": "a8bf5c48-0e21-406d-a38e-2785a405cb55",
   "metadata": {
    "tags": []
   },
   "source": [
    "---"
   ]
  },
  {
   "cell_type": "code",
   "execution_count": 18,
   "id": "055e508d-87bc-4fc4-b500-087528965a65",
   "metadata": {
    "tags": []
   },
   "outputs": [
    {
     "data": {
      "text/plain": [
       "array(['sauropod', 'large theropod', 'ceratopsian', 'euornithopod',\n",
       "       'small theropod', 'armoured dinosaur'], dtype=object)"
      ]
     },
     "execution_count": 18,
     "metadata": {},
     "output_type": "execute_result"
    }
   ],
   "source": [
    "df.type.unique()"
   ]
  },
  {
   "cell_type": "code",
   "execution_count": 19,
   "id": "e215d724-29c3-4909-90ef-5924cd32c7e1",
   "metadata": {
    "tags": []
   },
   "outputs": [],
   "source": [
    "# df.period.unique()"
   ]
  },
  {
   "cell_type": "code",
   "execution_count": 20,
   "id": "c56fd864-4912-42e8-977a-29cb97216136",
   "metadata": {
    "tags": []
   },
   "outputs": [],
   "source": [
    "def process_period(period):\n",
    "    period_name = ''\n",
    "    for c in range(len(period)):\n",
    "        if period[c].isdigit():\n",
    "            break\n",
    "        else:\n",
    "            period_name += period[c]\n",
    "    period_name = period_name.strip()\n",
    "    return period_name"
   ]
  },
  {
   "cell_type": "code",
   "execution_count": 21,
   "id": "19988603-370b-4c9c-acbd-d87e56df7c4b",
   "metadata": {
    "tags": []
   },
   "outputs": [],
   "source": [
    "df.period = list(map(lambda x: process_period(x), df.period))"
   ]
  },
  {
   "cell_type": "code",
   "execution_count": 22,
   "id": "617ef36d-c596-4aa2-bd5a-2df583696ccf",
   "metadata": {
    "tags": []
   },
   "outputs": [
    {
     "data": {
      "text/plain": [
       "array(['Early Jurassic', 'Late Cretaceous', 'Early Cretaceous',\n",
       "       'Late Jurassic', 'Mid Jurassic', 'Late Triassic'], dtype=object)"
      ]
     },
     "execution_count": 22,
     "metadata": {},
     "output_type": "execute_result"
    }
   ],
   "source": [
    "df.period.unique()"
   ]
  },
  {
   "cell_type": "markdown",
   "id": "7e62b56a-e6f1-46d5-a486-690c979363b5",
   "metadata": {
    "tags": []
   },
   "source": [
    "---"
   ]
  },
  {
   "cell_type": "code",
   "execution_count": 23,
   "id": "2c9c04fa-7082-40b1-b039-550e4f2f03da",
   "metadata": {
    "tags": []
   },
   "outputs": [
    {
     "data": {
      "text/html": [
       "<div>\n",
       "<style scoped>\n",
       "    .dataframe tbody tr th:only-of-type {\n",
       "        vertical-align: middle;\n",
       "    }\n",
       "\n",
       "    .dataframe tbody tr th {\n",
       "        vertical-align: top;\n",
       "    }\n",
       "\n",
       "    .dataframe thead th {\n",
       "        text-align: right;\n",
       "    }\n",
       "</style>\n",
       "<table border=\"1\" class=\"dataframe\">\n",
       "  <thead>\n",
       "    <tr style=\"text-align: right;\">\n",
       "      <th></th>\n",
       "      <th>name</th>\n",
       "      <th>diet</th>\n",
       "      <th>period</th>\n",
       "      <th>lived_in</th>\n",
       "      <th>type</th>\n",
       "      <th>length</th>\n",
       "      <th>taxonomy</th>\n",
       "      <th>named_by</th>\n",
       "      <th>species</th>\n",
       "      <th>link</th>\n",
       "    </tr>\n",
       "  </thead>\n",
       "  <tbody>\n",
       "    <tr>\n",
       "      <th>0</th>\n",
       "      <td>aardonyx</td>\n",
       "      <td>herbivorous</td>\n",
       "      <td>Early Jurassic</td>\n",
       "      <td>South Africa</td>\n",
       "      <td>sauropod</td>\n",
       "      <td>8.0</td>\n",
       "      <td>Dinosauria Saurischia Sauropodomorpha Prosauro...</td>\n",
       "      <td>Yates Bonnan Neveling Chinsamy and Blackbeard ...</td>\n",
       "      <td>celestae</td>\n",
       "      <td>https://www.nhm.ac.uk/discover/dino-directory/...</td>\n",
       "    </tr>\n",
       "    <tr>\n",
       "      <th>1</th>\n",
       "      <td>abelisaurus</td>\n",
       "      <td>carnivorous</td>\n",
       "      <td>Late Cretaceous</td>\n",
       "      <td>Argentina</td>\n",
       "      <td>large theropod</td>\n",
       "      <td>9.0</td>\n",
       "      <td>Dinosauria Saurischia Theropoda Neotheropoda C...</td>\n",
       "      <td>Bonaparte and Novas (1985)</td>\n",
       "      <td>comahuensis</td>\n",
       "      <td>https://www.nhm.ac.uk/discover/dino-directory/...</td>\n",
       "    </tr>\n",
       "    <tr>\n",
       "      <th>2</th>\n",
       "      <td>achelousaurus</td>\n",
       "      <td>herbivorous</td>\n",
       "      <td>Late Cretaceous</td>\n",
       "      <td>USA</td>\n",
       "      <td>ceratopsian</td>\n",
       "      <td>6.0</td>\n",
       "      <td>Dinosauria Ornithischia Genasauria Cerapoda Ma...</td>\n",
       "      <td>Sampson  (1995)</td>\n",
       "      <td>horneri</td>\n",
       "      <td>https://www.nhm.ac.uk/discover/dino-directory/...</td>\n",
       "    </tr>\n",
       "    <tr>\n",
       "      <th>3</th>\n",
       "      <td>achillobator</td>\n",
       "      <td>carnivorous</td>\n",
       "      <td>Late Cretaceous</td>\n",
       "      <td>Mongolia</td>\n",
       "      <td>large theropod</td>\n",
       "      <td>5.0</td>\n",
       "      <td>Dinosauria Saurischia Theropoda Neotheropoda T...</td>\n",
       "      <td>Perle Norell and Clark (1999)</td>\n",
       "      <td>giganteus</td>\n",
       "      <td>https://www.nhm.ac.uk/discover/dino-directory/...</td>\n",
       "    </tr>\n",
       "    <tr>\n",
       "      <th>4</th>\n",
       "      <td>acrocanthosaurus</td>\n",
       "      <td>carnivorous</td>\n",
       "      <td>Early Cretaceous</td>\n",
       "      <td>USA</td>\n",
       "      <td>large theropod</td>\n",
       "      <td>12.0</td>\n",
       "      <td>Dinosauria Saurischia Theropoda Neotheropoda T...</td>\n",
       "      <td>Stovall and Langston (1950)</td>\n",
       "      <td>atokensis</td>\n",
       "      <td>https://www.nhm.ac.uk/discover/dino-directory/...</td>\n",
       "    </tr>\n",
       "    <tr>\n",
       "      <th>...</th>\n",
       "      <td>...</td>\n",
       "      <td>...</td>\n",
       "      <td>...</td>\n",
       "      <td>...</td>\n",
       "      <td>...</td>\n",
       "      <td>...</td>\n",
       "      <td>...</td>\n",
       "      <td>...</td>\n",
       "      <td>...</td>\n",
       "      <td>...</td>\n",
       "    </tr>\n",
       "    <tr>\n",
       "      <th>280</th>\n",
       "      <td>yinlong</td>\n",
       "      <td>herbivorous</td>\n",
       "      <td>Mid Jurassic</td>\n",
       "      <td>China</td>\n",
       "      <td>ceratopsian</td>\n",
       "      <td>1.2</td>\n",
       "      <td>Dinosauria Ornithischia Genasauria Cerapoda Ma...</td>\n",
       "      <td>Xu Forster Clark and Mo (2006)</td>\n",
       "      <td>downsi</td>\n",
       "      <td>https://www.nhm.ac.uk/discover/dino-directory/...</td>\n",
       "    </tr>\n",
       "    <tr>\n",
       "      <th>281</th>\n",
       "      <td>yuanmousaurus</td>\n",
       "      <td>herbivorous</td>\n",
       "      <td>Mid Jurassic</td>\n",
       "      <td>China</td>\n",
       "      <td>sauropod</td>\n",
       "      <td>17.0</td>\n",
       "      <td>Dinosauria Saurischia Sauropodomorpha Sauropod...</td>\n",
       "      <td>Lü Li Ji Wang Zhang and Dong (2006)</td>\n",
       "      <td>jiangyiensis</td>\n",
       "      <td>https://www.nhm.ac.uk/discover/dino-directory/...</td>\n",
       "    </tr>\n",
       "    <tr>\n",
       "      <th>282</th>\n",
       "      <td>yunnanosaurus</td>\n",
       "      <td>omnivorous</td>\n",
       "      <td>Early Jurassic</td>\n",
       "      <td>China</td>\n",
       "      <td>sauropod</td>\n",
       "      <td>7.0</td>\n",
       "      <td>Dinosauria Saurischia Sauropodomorpha Prosauro...</td>\n",
       "      <td>Young (1942)</td>\n",
       "      <td>huangi</td>\n",
       "      <td>https://www.nhm.ac.uk/discover/dino-directory/...</td>\n",
       "    </tr>\n",
       "    <tr>\n",
       "      <th>283</th>\n",
       "      <td>zalmoxes</td>\n",
       "      <td>herbivorous</td>\n",
       "      <td>Late Cretaceous</td>\n",
       "      <td>Romania</td>\n",
       "      <td>euornithopod</td>\n",
       "      <td>3.0</td>\n",
       "      <td>Dinosauria Ornithischia Genasauria Cerapoda Or...</td>\n",
       "      <td>Nopcsa (1902)</td>\n",
       "      <td>robustus</td>\n",
       "      <td>https://www.nhm.ac.uk/discover/dino-directory/...</td>\n",
       "    </tr>\n",
       "    <tr>\n",
       "      <th>284</th>\n",
       "      <td>zephyrosaurus</td>\n",
       "      <td>herbivorous</td>\n",
       "      <td>Early Cretaceous</td>\n",
       "      <td>USA</td>\n",
       "      <td>euornithopod</td>\n",
       "      <td>1.8</td>\n",
       "      <td>Dinosauria Ornithischia Genasauria Cerapoda Or...</td>\n",
       "      <td>Sues (1980)</td>\n",
       "      <td>schaffi</td>\n",
       "      <td>https://www.nhm.ac.uk/discover/dino-directory/...</td>\n",
       "    </tr>\n",
       "  </tbody>\n",
       "</table>\n",
       "<p>285 rows × 10 columns</p>\n",
       "</div>"
      ],
      "text/plain": [
       "                 name         diet            period      lived_in   \n",
       "0            aardonyx  herbivorous    Early Jurassic  South Africa  \\\n",
       "1         abelisaurus  carnivorous   Late Cretaceous     Argentina   \n",
       "2       achelousaurus  herbivorous   Late Cretaceous           USA   \n",
       "3        achillobator  carnivorous   Late Cretaceous      Mongolia   \n",
       "4    acrocanthosaurus  carnivorous  Early Cretaceous           USA   \n",
       "..                ...          ...               ...           ...   \n",
       "280           yinlong  herbivorous      Mid Jurassic         China   \n",
       "281     yuanmousaurus  herbivorous      Mid Jurassic         China   \n",
       "282     yunnanosaurus   omnivorous    Early Jurassic         China   \n",
       "283          zalmoxes  herbivorous   Late Cretaceous       Romania   \n",
       "284     zephyrosaurus  herbivorous  Early Cretaceous           USA   \n",
       "\n",
       "               type  length   \n",
       "0          sauropod     8.0  \\\n",
       "1    large theropod     9.0   \n",
       "2       ceratopsian     6.0   \n",
       "3    large theropod     5.0   \n",
       "4    large theropod    12.0   \n",
       "..              ...     ...   \n",
       "280     ceratopsian     1.2   \n",
       "281        sauropod    17.0   \n",
       "282        sauropod     7.0   \n",
       "283    euornithopod     3.0   \n",
       "284    euornithopod     1.8   \n",
       "\n",
       "                                              taxonomy   \n",
       "0    Dinosauria Saurischia Sauropodomorpha Prosauro...  \\\n",
       "1    Dinosauria Saurischia Theropoda Neotheropoda C...   \n",
       "2    Dinosauria Ornithischia Genasauria Cerapoda Ma...   \n",
       "3    Dinosauria Saurischia Theropoda Neotheropoda T...   \n",
       "4    Dinosauria Saurischia Theropoda Neotheropoda T...   \n",
       "..                                                 ...   \n",
       "280  Dinosauria Ornithischia Genasauria Cerapoda Ma...   \n",
       "281  Dinosauria Saurischia Sauropodomorpha Sauropod...   \n",
       "282  Dinosauria Saurischia Sauropodomorpha Prosauro...   \n",
       "283  Dinosauria Ornithischia Genasauria Cerapoda Or...   \n",
       "284  Dinosauria Ornithischia Genasauria Cerapoda Or...   \n",
       "\n",
       "                                              named_by       species   \n",
       "0    Yates Bonnan Neveling Chinsamy and Blackbeard ...      celestae  \\\n",
       "1                           Bonaparte and Novas (1985)   comahuensis   \n",
       "2                                      Sampson  (1995)       horneri   \n",
       "3                        Perle Norell and Clark (1999)     giganteus   \n",
       "4                          Stovall and Langston (1950)     atokensis   \n",
       "..                                                 ...           ...   \n",
       "280                     Xu Forster Clark and Mo (2006)        downsi   \n",
       "281                Lü Li Ji Wang Zhang and Dong (2006)  jiangyiensis   \n",
       "282                                       Young (1942)        huangi   \n",
       "283                                      Nopcsa (1902)      robustus   \n",
       "284                                        Sues (1980)       schaffi   \n",
       "\n",
       "                                                  link  \n",
       "0    https://www.nhm.ac.uk/discover/dino-directory/...  \n",
       "1    https://www.nhm.ac.uk/discover/dino-directory/...  \n",
       "2    https://www.nhm.ac.uk/discover/dino-directory/...  \n",
       "3    https://www.nhm.ac.uk/discover/dino-directory/...  \n",
       "4    https://www.nhm.ac.uk/discover/dino-directory/...  \n",
       "..                                                 ...  \n",
       "280  https://www.nhm.ac.uk/discover/dino-directory/...  \n",
       "281  https://www.nhm.ac.uk/discover/dino-directory/...  \n",
       "282  https://www.nhm.ac.uk/discover/dino-directory/...  \n",
       "283  https://www.nhm.ac.uk/discover/dino-directory/...  \n",
       "284  https://www.nhm.ac.uk/discover/dino-directory/...  \n",
       "\n",
       "[285 rows x 10 columns]"
      ]
     },
     "execution_count": 23,
     "metadata": {},
     "output_type": "execute_result"
    }
   ],
   "source": [
    "df"
   ]
  },
  {
   "cell_type": "code",
   "execution_count": 24,
   "id": "0786955f-8201-42c7-bfee-da489ba7f40b",
   "metadata": {
    "tags": []
   },
   "outputs": [],
   "source": [
    "cols_to_drop = ['taxonomy', 'named_by', 'link']"
   ]
  },
  {
   "cell_type": "code",
   "execution_count": 25,
   "id": "4439235f-a6e2-4d8e-b66f-009c1ae52e3d",
   "metadata": {
    "tags": []
   },
   "outputs": [],
   "source": [
    "df.drop(cols_to_drop, axis=1, inplace=True)"
   ]
  },
  {
   "cell_type": "code",
   "execution_count": 26,
   "id": "cecdf17c-d3bd-4d9f-bf45-ac1892fb206c",
   "metadata": {
    "tags": []
   },
   "outputs": [
    {
     "data": {
      "text/html": [
       "<div>\n",
       "<style scoped>\n",
       "    .dataframe tbody tr th:only-of-type {\n",
       "        vertical-align: middle;\n",
       "    }\n",
       "\n",
       "    .dataframe tbody tr th {\n",
       "        vertical-align: top;\n",
       "    }\n",
       "\n",
       "    .dataframe thead th {\n",
       "        text-align: right;\n",
       "    }\n",
       "</style>\n",
       "<table border=\"1\" class=\"dataframe\">\n",
       "  <thead>\n",
       "    <tr style=\"text-align: right;\">\n",
       "      <th></th>\n",
       "      <th>name</th>\n",
       "      <th>diet</th>\n",
       "      <th>period</th>\n",
       "      <th>lived_in</th>\n",
       "      <th>type</th>\n",
       "      <th>length</th>\n",
       "      <th>species</th>\n",
       "    </tr>\n",
       "  </thead>\n",
       "  <tbody>\n",
       "    <tr>\n",
       "      <th>0</th>\n",
       "      <td>aardonyx</td>\n",
       "      <td>herbivorous</td>\n",
       "      <td>Early Jurassic</td>\n",
       "      <td>South Africa</td>\n",
       "      <td>sauropod</td>\n",
       "      <td>8.0</td>\n",
       "      <td>celestae</td>\n",
       "    </tr>\n",
       "    <tr>\n",
       "      <th>1</th>\n",
       "      <td>abelisaurus</td>\n",
       "      <td>carnivorous</td>\n",
       "      <td>Late Cretaceous</td>\n",
       "      <td>Argentina</td>\n",
       "      <td>large theropod</td>\n",
       "      <td>9.0</td>\n",
       "      <td>comahuensis</td>\n",
       "    </tr>\n",
       "    <tr>\n",
       "      <th>2</th>\n",
       "      <td>achelousaurus</td>\n",
       "      <td>herbivorous</td>\n",
       "      <td>Late Cretaceous</td>\n",
       "      <td>USA</td>\n",
       "      <td>ceratopsian</td>\n",
       "      <td>6.0</td>\n",
       "      <td>horneri</td>\n",
       "    </tr>\n",
       "    <tr>\n",
       "      <th>3</th>\n",
       "      <td>achillobator</td>\n",
       "      <td>carnivorous</td>\n",
       "      <td>Late Cretaceous</td>\n",
       "      <td>Mongolia</td>\n",
       "      <td>large theropod</td>\n",
       "      <td>5.0</td>\n",
       "      <td>giganteus</td>\n",
       "    </tr>\n",
       "    <tr>\n",
       "      <th>4</th>\n",
       "      <td>acrocanthosaurus</td>\n",
       "      <td>carnivorous</td>\n",
       "      <td>Early Cretaceous</td>\n",
       "      <td>USA</td>\n",
       "      <td>large theropod</td>\n",
       "      <td>12.0</td>\n",
       "      <td>atokensis</td>\n",
       "    </tr>\n",
       "    <tr>\n",
       "      <th>...</th>\n",
       "      <td>...</td>\n",
       "      <td>...</td>\n",
       "      <td>...</td>\n",
       "      <td>...</td>\n",
       "      <td>...</td>\n",
       "      <td>...</td>\n",
       "      <td>...</td>\n",
       "    </tr>\n",
       "    <tr>\n",
       "      <th>280</th>\n",
       "      <td>yinlong</td>\n",
       "      <td>herbivorous</td>\n",
       "      <td>Mid Jurassic</td>\n",
       "      <td>China</td>\n",
       "      <td>ceratopsian</td>\n",
       "      <td>1.2</td>\n",
       "      <td>downsi</td>\n",
       "    </tr>\n",
       "    <tr>\n",
       "      <th>281</th>\n",
       "      <td>yuanmousaurus</td>\n",
       "      <td>herbivorous</td>\n",
       "      <td>Mid Jurassic</td>\n",
       "      <td>China</td>\n",
       "      <td>sauropod</td>\n",
       "      <td>17.0</td>\n",
       "      <td>jiangyiensis</td>\n",
       "    </tr>\n",
       "    <tr>\n",
       "      <th>282</th>\n",
       "      <td>yunnanosaurus</td>\n",
       "      <td>omnivorous</td>\n",
       "      <td>Early Jurassic</td>\n",
       "      <td>China</td>\n",
       "      <td>sauropod</td>\n",
       "      <td>7.0</td>\n",
       "      <td>huangi</td>\n",
       "    </tr>\n",
       "    <tr>\n",
       "      <th>283</th>\n",
       "      <td>zalmoxes</td>\n",
       "      <td>herbivorous</td>\n",
       "      <td>Late Cretaceous</td>\n",
       "      <td>Romania</td>\n",
       "      <td>euornithopod</td>\n",
       "      <td>3.0</td>\n",
       "      <td>robustus</td>\n",
       "    </tr>\n",
       "    <tr>\n",
       "      <th>284</th>\n",
       "      <td>zephyrosaurus</td>\n",
       "      <td>herbivorous</td>\n",
       "      <td>Early Cretaceous</td>\n",
       "      <td>USA</td>\n",
       "      <td>euornithopod</td>\n",
       "      <td>1.8</td>\n",
       "      <td>schaffi</td>\n",
       "    </tr>\n",
       "  </tbody>\n",
       "</table>\n",
       "<p>285 rows × 7 columns</p>\n",
       "</div>"
      ],
      "text/plain": [
       "                 name         diet            period      lived_in   \n",
       "0            aardonyx  herbivorous    Early Jurassic  South Africa  \\\n",
       "1         abelisaurus  carnivorous   Late Cretaceous     Argentina   \n",
       "2       achelousaurus  herbivorous   Late Cretaceous           USA   \n",
       "3        achillobator  carnivorous   Late Cretaceous      Mongolia   \n",
       "4    acrocanthosaurus  carnivorous  Early Cretaceous           USA   \n",
       "..                ...          ...               ...           ...   \n",
       "280           yinlong  herbivorous      Mid Jurassic         China   \n",
       "281     yuanmousaurus  herbivorous      Mid Jurassic         China   \n",
       "282     yunnanosaurus   omnivorous    Early Jurassic         China   \n",
       "283          zalmoxes  herbivorous   Late Cretaceous       Romania   \n",
       "284     zephyrosaurus  herbivorous  Early Cretaceous           USA   \n",
       "\n",
       "               type  length       species  \n",
       "0          sauropod     8.0      celestae  \n",
       "1    large theropod     9.0   comahuensis  \n",
       "2       ceratopsian     6.0       horneri  \n",
       "3    large theropod     5.0     giganteus  \n",
       "4    large theropod    12.0     atokensis  \n",
       "..              ...     ...           ...  \n",
       "280     ceratopsian     1.2        downsi  \n",
       "281        sauropod    17.0  jiangyiensis  \n",
       "282        sauropod     7.0        huangi  \n",
       "283    euornithopod     3.0      robustus  \n",
       "284    euornithopod     1.8       schaffi  \n",
       "\n",
       "[285 rows x 7 columns]"
      ]
     },
     "execution_count": 26,
     "metadata": {},
     "output_type": "execute_result"
    }
   ],
   "source": [
    "df"
   ]
  },
  {
   "cell_type": "markdown",
   "id": "91b24a80-76d8-4087-ad72-b57dea30bea1",
   "metadata": {},
   "source": [
    "---"
   ]
  },
  {
   "cell_type": "code",
   "execution_count": 27,
   "id": "944650d0-6b5f-406a-9550-f5fa6551a1c8",
   "metadata": {
    "tags": []
   },
   "outputs": [],
   "source": [
    "cols_to_capitalize = ['name', 'diet', 'type', 'species']"
   ]
  },
  {
   "cell_type": "code",
   "execution_count": 28,
   "id": "fa6f4227-9719-44d8-8d44-bd5909cdfa1b",
   "metadata": {
    "tags": []
   },
   "outputs": [],
   "source": [
    "for each in cols_to_capitalize:\n",
    "    df[each] = list(map(lambda x: x.title(), df[each]))"
   ]
  },
  {
   "cell_type": "code",
   "execution_count": 29,
   "id": "c1800e5b-a180-4a65-8bfe-c552614bd602",
   "metadata": {},
   "outputs": [
    {
     "data": {
      "text/html": [
       "<div>\n",
       "<style scoped>\n",
       "    .dataframe tbody tr th:only-of-type {\n",
       "        vertical-align: middle;\n",
       "    }\n",
       "\n",
       "    .dataframe tbody tr th {\n",
       "        vertical-align: top;\n",
       "    }\n",
       "\n",
       "    .dataframe thead th {\n",
       "        text-align: right;\n",
       "    }\n",
       "</style>\n",
       "<table border=\"1\" class=\"dataframe\">\n",
       "  <thead>\n",
       "    <tr style=\"text-align: right;\">\n",
       "      <th></th>\n",
       "      <th>name</th>\n",
       "      <th>diet</th>\n",
       "      <th>period</th>\n",
       "      <th>lived_in</th>\n",
       "      <th>type</th>\n",
       "      <th>length</th>\n",
       "      <th>species</th>\n",
       "    </tr>\n",
       "  </thead>\n",
       "  <tbody>\n",
       "    <tr>\n",
       "      <th>0</th>\n",
       "      <td>Aardonyx</td>\n",
       "      <td>Herbivorous</td>\n",
       "      <td>Early Jurassic</td>\n",
       "      <td>South Africa</td>\n",
       "      <td>Sauropod</td>\n",
       "      <td>8.0</td>\n",
       "      <td>Celestae</td>\n",
       "    </tr>\n",
       "    <tr>\n",
       "      <th>1</th>\n",
       "      <td>Abelisaurus</td>\n",
       "      <td>Carnivorous</td>\n",
       "      <td>Late Cretaceous</td>\n",
       "      <td>Argentina</td>\n",
       "      <td>Large Theropod</td>\n",
       "      <td>9.0</td>\n",
       "      <td>Comahuensis</td>\n",
       "    </tr>\n",
       "    <tr>\n",
       "      <th>2</th>\n",
       "      <td>Achelousaurus</td>\n",
       "      <td>Herbivorous</td>\n",
       "      <td>Late Cretaceous</td>\n",
       "      <td>USA</td>\n",
       "      <td>Ceratopsian</td>\n",
       "      <td>6.0</td>\n",
       "      <td>Horneri</td>\n",
       "    </tr>\n",
       "    <tr>\n",
       "      <th>3</th>\n",
       "      <td>Achillobator</td>\n",
       "      <td>Carnivorous</td>\n",
       "      <td>Late Cretaceous</td>\n",
       "      <td>Mongolia</td>\n",
       "      <td>Large Theropod</td>\n",
       "      <td>5.0</td>\n",
       "      <td>Giganteus</td>\n",
       "    </tr>\n",
       "    <tr>\n",
       "      <th>4</th>\n",
       "      <td>Acrocanthosaurus</td>\n",
       "      <td>Carnivorous</td>\n",
       "      <td>Early Cretaceous</td>\n",
       "      <td>USA</td>\n",
       "      <td>Large Theropod</td>\n",
       "      <td>12.0</td>\n",
       "      <td>Atokensis</td>\n",
       "    </tr>\n",
       "  </tbody>\n",
       "</table>\n",
       "</div>"
      ],
      "text/plain": [
       "               name         diet            period      lived_in   \n",
       "0          Aardonyx  Herbivorous    Early Jurassic  South Africa  \\\n",
       "1       Abelisaurus  Carnivorous   Late Cretaceous     Argentina   \n",
       "2     Achelousaurus  Herbivorous   Late Cretaceous           USA   \n",
       "3      Achillobator  Carnivorous   Late Cretaceous      Mongolia   \n",
       "4  Acrocanthosaurus  Carnivorous  Early Cretaceous           USA   \n",
       "\n",
       "             type  length      species  \n",
       "0        Sauropod     8.0     Celestae  \n",
       "1  Large Theropod     9.0  Comahuensis  \n",
       "2     Ceratopsian     6.0      Horneri  \n",
       "3  Large Theropod     5.0    Giganteus  \n",
       "4  Large Theropod    12.0    Atokensis  "
      ]
     },
     "execution_count": 29,
     "metadata": {},
     "output_type": "execute_result"
    }
   ],
   "source": [
    "df.head()"
   ]
  },
  {
   "cell_type": "markdown",
   "id": "24d350e5-ef6b-4c4c-9363-09db4a060dcc",
   "metadata": {},
   "source": [
    "---\n",
    "### Generating ISO-3 codes for the countries"
   ]
  },
  {
   "cell_type": "code",
   "execution_count": 30,
   "id": "faec67f5-08b2-4b32-bc64-44bf7f5a767d",
   "metadata": {},
   "outputs": [
    {
     "data": {
      "text/plain": [
       "array(['Antarctica', 'Argentina', 'Australia', 'Brazil', 'Canada',\n",
       "       'China', 'Egypt', 'France', 'Germany', 'India', 'Japan',\n",
       "       'Kazakhstan', 'Madagascar', 'Malawi', 'Mongolia', 'Morocco',\n",
       "       'Niger', 'North Africa', 'Romania', 'Russia', 'South Africa',\n",
       "       'Spain', 'Switzerland', 'Tanzania', 'Tunisia', 'USA',\n",
       "       'United Kingdom', 'Uruguay', 'Uzbekistan', 'Wales', 'Zimbabwe'],\n",
       "      dtype='<U14')"
      ]
     },
     "execution_count": 30,
     "metadata": {},
     "output_type": "execute_result"
    }
   ],
   "source": [
    "country_list = sorted(df.lived_in.unique().tolist())\n",
    "np.array(country_list)"
   ]
  },
  {
   "cell_type": "code",
   "execution_count": 31,
   "id": "2ce3691e-1a5d-4756-92a8-2aa2aaf615a9",
   "metadata": {
    "tags": []
   },
   "outputs": [],
   "source": [
    "cc = coco.CountryConverter()"
   ]
  },
  {
   "cell_type": "code",
   "execution_count": 32,
   "id": "d47b27f9-4a34-4e04-8bd3-4786ef05b423",
   "metadata": {
    "tags": []
   },
   "outputs": [
    {
     "name": "stderr",
     "output_type": "stream",
     "text": [
      "North Africa not found in regex\n",
      "Wales not found in regex\n"
     ]
    }
   ],
   "source": [
    "iso_codes = cc.convert(country_list, to='ISO3')"
   ]
  },
  {
   "cell_type": "code",
   "execution_count": 33,
   "id": "03b3ec06-af90-4dd0-9fa5-41eab58e912b",
   "metadata": {
    "tags": []
   },
   "outputs": [],
   "source": [
    "# changing North Africa to South Africa\n",
    "# changing Wales to United Kingdom"
   ]
  },
  {
   "cell_type": "code",
   "execution_count": 34,
   "id": "c9f3c3ac-86c2-41f8-91d9-d6595f677656",
   "metadata": {
    "tags": []
   },
   "outputs": [
    {
     "data": {
      "text/html": [
       "<div>\n",
       "<style scoped>\n",
       "    .dataframe tbody tr th:only-of-type {\n",
       "        vertical-align: middle;\n",
       "    }\n",
       "\n",
       "    .dataframe tbody tr th {\n",
       "        vertical-align: top;\n",
       "    }\n",
       "\n",
       "    .dataframe thead th {\n",
       "        text-align: right;\n",
       "    }\n",
       "</style>\n",
       "<table border=\"1\" class=\"dataframe\">\n",
       "  <thead>\n",
       "    <tr style=\"text-align: right;\">\n",
       "      <th></th>\n",
       "      <th>name</th>\n",
       "      <th>diet</th>\n",
       "      <th>period</th>\n",
       "      <th>lived_in</th>\n",
       "      <th>type</th>\n",
       "      <th>length</th>\n",
       "      <th>species</th>\n",
       "    </tr>\n",
       "  </thead>\n",
       "  <tbody>\n",
       "    <tr>\n",
       "      <th>53</th>\n",
       "      <td>Carcharodontosaurus</td>\n",
       "      <td>Carnivorous</td>\n",
       "      <td>Late Cretaceous</td>\n",
       "      <td>North Africa</td>\n",
       "      <td>Large Theropod</td>\n",
       "      <td>15.0</td>\n",
       "      <td>Saharicus</td>\n",
       "    </tr>\n",
       "  </tbody>\n",
       "</table>\n",
       "</div>"
      ],
      "text/plain": [
       "                   name         diet           period      lived_in   \n",
       "53  Carcharodontosaurus  Carnivorous  Late Cretaceous  North Africa  \\\n",
       "\n",
       "              type  length    species  \n",
       "53  Large Theropod    15.0  Saharicus  "
      ]
     },
     "execution_count": 34,
     "metadata": {},
     "output_type": "execute_result"
    }
   ],
   "source": [
    "df[df.lived_in=='North Africa']"
   ]
  },
  {
   "cell_type": "code",
   "execution_count": 35,
   "id": "804ba1d2-6d76-4085-9118-1aba6e94d21a",
   "metadata": {
    "tags": []
   },
   "outputs": [
    {
     "data": {
      "text/html": [
       "<div>\n",
       "<style scoped>\n",
       "    .dataframe tbody tr th:only-of-type {\n",
       "        vertical-align: middle;\n",
       "    }\n",
       "\n",
       "    .dataframe tbody tr th {\n",
       "        vertical-align: top;\n",
       "    }\n",
       "\n",
       "    .dataframe thead th {\n",
       "        text-align: right;\n",
       "    }\n",
       "</style>\n",
       "<table border=\"1\" class=\"dataframe\">\n",
       "  <thead>\n",
       "    <tr style=\"text-align: right;\">\n",
       "      <th></th>\n",
       "      <th>name</th>\n",
       "      <th>diet</th>\n",
       "      <th>period</th>\n",
       "      <th>lived_in</th>\n",
       "      <th>type</th>\n",
       "      <th>length</th>\n",
       "      <th>species</th>\n",
       "    </tr>\n",
       "  </thead>\n",
       "  <tbody>\n",
       "    <tr>\n",
       "      <th>193</th>\n",
       "      <td>Pantydraco</td>\n",
       "      <td>Herbivorous</td>\n",
       "      <td>Early Jurassic</td>\n",
       "      <td>Wales</td>\n",
       "      <td>Euornithopod</td>\n",
       "      <td>3.0</td>\n",
       "      <td>Caducus</td>\n",
       "    </tr>\n",
       "  </tbody>\n",
       "</table>\n",
       "</div>"
      ],
      "text/plain": [
       "           name         diet          period lived_in          type  length   \n",
       "193  Pantydraco  Herbivorous  Early Jurassic    Wales  Euornithopod     3.0  \\\n",
       "\n",
       "     species  \n",
       "193  Caducus  "
      ]
     },
     "execution_count": 35,
     "metadata": {},
     "output_type": "execute_result"
    }
   ],
   "source": [
    "df[df.lived_in=='Wales']"
   ]
  },
  {
   "cell_type": "code",
   "execution_count": 36,
   "id": "cd7d32d0-e000-4789-9d7d-e87164a7bd4f",
   "metadata": {
    "tags": []
   },
   "outputs": [],
   "source": [
    "df.at[53, 'lived_in'] = 'South Africa'\n",
    "df.at[193, 'lived_in'] = 'United Kingdom'"
   ]
  },
  {
   "cell_type": "code",
   "execution_count": 37,
   "id": "045d30b4-4150-4cc7-a050-7ff79a642e76",
   "metadata": {
    "tags": []
   },
   "outputs": [
    {
     "data": {
      "text/plain": [
       "29"
      ]
     },
     "execution_count": 37,
     "metadata": {},
     "output_type": "execute_result"
    }
   ],
   "source": [
    "df.lived_in.nunique()"
   ]
  },
  {
   "cell_type": "code",
   "execution_count": 38,
   "id": "25546b5e-dff4-4ea3-a317-12988e37e63a",
   "metadata": {
    "tags": []
   },
   "outputs": [],
   "source": [
    "df['lived_in_iso'] = cc.pandas_convert(series=df.lived_in, to='ISO3')"
   ]
  },
  {
   "cell_type": "code",
   "execution_count": 39,
   "id": "b20d77f0-3f95-4c63-bd01-f7e4dfd410e2",
   "metadata": {
    "tags": []
   },
   "outputs": [
    {
     "data": {
      "text/html": [
       "<div>\n",
       "<style scoped>\n",
       "    .dataframe tbody tr th:only-of-type {\n",
       "        vertical-align: middle;\n",
       "    }\n",
       "\n",
       "    .dataframe tbody tr th {\n",
       "        vertical-align: top;\n",
       "    }\n",
       "\n",
       "    .dataframe thead th {\n",
       "        text-align: right;\n",
       "    }\n",
       "</style>\n",
       "<table border=\"1\" class=\"dataframe\">\n",
       "  <thead>\n",
       "    <tr style=\"text-align: right;\">\n",
       "      <th></th>\n",
       "      <th>name</th>\n",
       "      <th>diet</th>\n",
       "      <th>period</th>\n",
       "      <th>lived_in</th>\n",
       "      <th>type</th>\n",
       "      <th>length</th>\n",
       "      <th>species</th>\n",
       "      <th>lived_in_iso</th>\n",
       "    </tr>\n",
       "  </thead>\n",
       "  <tbody>\n",
       "    <tr>\n",
       "      <th>0</th>\n",
       "      <td>Aardonyx</td>\n",
       "      <td>Herbivorous</td>\n",
       "      <td>Early Jurassic</td>\n",
       "      <td>South Africa</td>\n",
       "      <td>Sauropod</td>\n",
       "      <td>8.0</td>\n",
       "      <td>Celestae</td>\n",
       "      <td>ZAF</td>\n",
       "    </tr>\n",
       "    <tr>\n",
       "      <th>1</th>\n",
       "      <td>Abelisaurus</td>\n",
       "      <td>Carnivorous</td>\n",
       "      <td>Late Cretaceous</td>\n",
       "      <td>Argentina</td>\n",
       "      <td>Large Theropod</td>\n",
       "      <td>9.0</td>\n",
       "      <td>Comahuensis</td>\n",
       "      <td>ARG</td>\n",
       "    </tr>\n",
       "    <tr>\n",
       "      <th>2</th>\n",
       "      <td>Achelousaurus</td>\n",
       "      <td>Herbivorous</td>\n",
       "      <td>Late Cretaceous</td>\n",
       "      <td>USA</td>\n",
       "      <td>Ceratopsian</td>\n",
       "      <td>6.0</td>\n",
       "      <td>Horneri</td>\n",
       "      <td>USA</td>\n",
       "    </tr>\n",
       "    <tr>\n",
       "      <th>3</th>\n",
       "      <td>Achillobator</td>\n",
       "      <td>Carnivorous</td>\n",
       "      <td>Late Cretaceous</td>\n",
       "      <td>Mongolia</td>\n",
       "      <td>Large Theropod</td>\n",
       "      <td>5.0</td>\n",
       "      <td>Giganteus</td>\n",
       "      <td>MNG</td>\n",
       "    </tr>\n",
       "    <tr>\n",
       "      <th>4</th>\n",
       "      <td>Acrocanthosaurus</td>\n",
       "      <td>Carnivorous</td>\n",
       "      <td>Early Cretaceous</td>\n",
       "      <td>USA</td>\n",
       "      <td>Large Theropod</td>\n",
       "      <td>12.0</td>\n",
       "      <td>Atokensis</td>\n",
       "      <td>USA</td>\n",
       "    </tr>\n",
       "    <tr>\n",
       "      <th>...</th>\n",
       "      <td>...</td>\n",
       "      <td>...</td>\n",
       "      <td>...</td>\n",
       "      <td>...</td>\n",
       "      <td>...</td>\n",
       "      <td>...</td>\n",
       "      <td>...</td>\n",
       "      <td>...</td>\n",
       "    </tr>\n",
       "    <tr>\n",
       "      <th>280</th>\n",
       "      <td>Yinlong</td>\n",
       "      <td>Herbivorous</td>\n",
       "      <td>Mid Jurassic</td>\n",
       "      <td>China</td>\n",
       "      <td>Ceratopsian</td>\n",
       "      <td>1.2</td>\n",
       "      <td>Downsi</td>\n",
       "      <td>CHN</td>\n",
       "    </tr>\n",
       "    <tr>\n",
       "      <th>281</th>\n",
       "      <td>Yuanmousaurus</td>\n",
       "      <td>Herbivorous</td>\n",
       "      <td>Mid Jurassic</td>\n",
       "      <td>China</td>\n",
       "      <td>Sauropod</td>\n",
       "      <td>17.0</td>\n",
       "      <td>Jiangyiensis</td>\n",
       "      <td>CHN</td>\n",
       "    </tr>\n",
       "    <tr>\n",
       "      <th>282</th>\n",
       "      <td>Yunnanosaurus</td>\n",
       "      <td>Omnivorous</td>\n",
       "      <td>Early Jurassic</td>\n",
       "      <td>China</td>\n",
       "      <td>Sauropod</td>\n",
       "      <td>7.0</td>\n",
       "      <td>Huangi</td>\n",
       "      <td>CHN</td>\n",
       "    </tr>\n",
       "    <tr>\n",
       "      <th>283</th>\n",
       "      <td>Zalmoxes</td>\n",
       "      <td>Herbivorous</td>\n",
       "      <td>Late Cretaceous</td>\n",
       "      <td>Romania</td>\n",
       "      <td>Euornithopod</td>\n",
       "      <td>3.0</td>\n",
       "      <td>Robustus</td>\n",
       "      <td>ROU</td>\n",
       "    </tr>\n",
       "    <tr>\n",
       "      <th>284</th>\n",
       "      <td>Zephyrosaurus</td>\n",
       "      <td>Herbivorous</td>\n",
       "      <td>Early Cretaceous</td>\n",
       "      <td>USA</td>\n",
       "      <td>Euornithopod</td>\n",
       "      <td>1.8</td>\n",
       "      <td>Schaffi</td>\n",
       "      <td>USA</td>\n",
       "    </tr>\n",
       "  </tbody>\n",
       "</table>\n",
       "<p>285 rows × 8 columns</p>\n",
       "</div>"
      ],
      "text/plain": [
       "                 name         diet            period      lived_in   \n",
       "0            Aardonyx  Herbivorous    Early Jurassic  South Africa  \\\n",
       "1         Abelisaurus  Carnivorous   Late Cretaceous     Argentina   \n",
       "2       Achelousaurus  Herbivorous   Late Cretaceous           USA   \n",
       "3        Achillobator  Carnivorous   Late Cretaceous      Mongolia   \n",
       "4    Acrocanthosaurus  Carnivorous  Early Cretaceous           USA   \n",
       "..                ...          ...               ...           ...   \n",
       "280           Yinlong  Herbivorous      Mid Jurassic         China   \n",
       "281     Yuanmousaurus  Herbivorous      Mid Jurassic         China   \n",
       "282     Yunnanosaurus   Omnivorous    Early Jurassic         China   \n",
       "283          Zalmoxes  Herbivorous   Late Cretaceous       Romania   \n",
       "284     Zephyrosaurus  Herbivorous  Early Cretaceous           USA   \n",
       "\n",
       "               type  length       species lived_in_iso  \n",
       "0          Sauropod     8.0      Celestae          ZAF  \n",
       "1    Large Theropod     9.0   Comahuensis          ARG  \n",
       "2       Ceratopsian     6.0       Horneri          USA  \n",
       "3    Large Theropod     5.0     Giganteus          MNG  \n",
       "4    Large Theropod    12.0     Atokensis          USA  \n",
       "..              ...     ...           ...          ...  \n",
       "280     Ceratopsian     1.2        Downsi          CHN  \n",
       "281        Sauropod    17.0  Jiangyiensis          CHN  \n",
       "282        Sauropod     7.0        Huangi          CHN  \n",
       "283    Euornithopod     3.0      Robustus          ROU  \n",
       "284    Euornithopod     1.8       Schaffi          USA  \n",
       "\n",
       "[285 rows x 8 columns]"
      ]
     },
     "execution_count": 39,
     "metadata": {},
     "output_type": "execute_result"
    }
   ],
   "source": [
    "df"
   ]
  },
  {
   "cell_type": "markdown",
   "id": "8cd35516-c2a1-4648-a728-f56e41d61c85",
   "metadata": {},
   "source": [
    "---\n",
    "### Saving the preprocessed data"
   ]
  },
  {
   "cell_type": "code",
   "execution_count": 40,
   "id": "9ff998a3-acf2-44a3-b603-8784b321b226",
   "metadata": {
    "tags": []
   },
   "outputs": [],
   "source": [
    "df.to_csv('data_preprocessed.csv', index=False)"
   ]
  },
  {
   "cell_type": "markdown",
   "id": "54128981-c22d-4838-b8e9-6999459015ad",
   "metadata": {},
   "source": [
    "---"
   ]
  },
  {
   "cell_type": "code",
   "execution_count": null,
   "id": "ab0d4c03-d3d3-42c1-bdcf-52f058552a55",
   "metadata": {},
   "outputs": [],
   "source": []
  }
 ],
 "metadata": {
  "kernelspec": {
   "display_name": "Python 3 (ipykernel)",
   "language": "python",
   "name": "python3"
  },
  "language_info": {
   "codemirror_mode": {
    "name": "ipython",
    "version": 3
   },
   "file_extension": ".py",
   "mimetype": "text/x-python",
   "name": "python",
   "nbconvert_exporter": "python",
   "pygments_lexer": "ipython3",
   "version": "3.8.10"
  }
 },
 "nbformat": 4,
 "nbformat_minor": 5
}
